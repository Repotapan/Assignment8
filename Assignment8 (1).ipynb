{
 "cells": [
  {
   "cell_type": "markdown",
   "id": "a11f045f-7330-437e-82e4-7989ec65ed2f",
   "metadata": {},
   "source": [
    "1)"
   ]
  },
  {
   "cell_type": "code",
   "execution_count": 4,
   "id": "0c569d83-f62d-4bb2-94f8-605947d18da7",
   "metadata": {},
   "outputs": [],
   "source": [
    "def check_password(password):\n",
    "    if len(password) != 10:\n",
    "        return \"Invalid passoword\"\n",
    "    upper_count= sum(1 for char in password if char.isupper())\n",
    "    if upper_count < 2:\n",
    "        return \"Invalid passoword\"\n",
    "    lower_count=sum(1 for char in password if char.islower())\n",
    "    if lower_count < 2:\n",
    "         return \"Invalid passoword\"\n",
    "    num_count=sum(1 for char in password if char.isdigit())\n",
    "    if num_count == 0:\n",
    "         return \"Invalid passoword\"\n",
    "    special_count=sum(1 for char in password if not char.isalnum())\n",
    "    if special_count < 3:\n",
    "         return \"Invalid passoword\"\n",
    "    return \"valid password\"\n",
    "        \n",
    "        \n",
    "        \n",
    "        "
   ]
  },
  {
   "cell_type": "code",
   "execution_count": 7,
   "id": "e070409e-a898-4f1a-bdfd-4b36be454377",
   "metadata": {},
   "outputs": [
    {
     "data": {
      "text/plain": [
       "'Invalid passoword'"
      ]
     },
     "execution_count": 7,
     "metadata": {},
     "output_type": "execute_result"
    }
   ],
   "source": [
    "check_password(\"tapan\")\n",
    "                "
   ]
  },
  {
   "cell_type": "markdown",
   "id": "77bb9eaa-3e3e-41d9-8401-9ca31d82e14d",
   "metadata": {},
   "source": [
    "2)"
   ]
  },
  {
   "cell_type": "code",
   "execution_count": 8,
   "id": "5900877e-483b-4a0b-9828-6cf4bcad996e",
   "metadata": {},
   "outputs": [],
   "source": [
    "s = \"tapan\""
   ]
  },
  {
   "cell_type": "code",
   "execution_count": 9,
   "id": "c8b5b880-7cdc-47d0-8e98-57bfbebd4efb",
   "metadata": {},
   "outputs": [
    {
     "data": {
      "text/plain": [
       "True"
      ]
     },
     "execution_count": 9,
     "metadata": {},
     "output_type": "execute_result"
    }
   ],
   "source": [
    "s.startswith(\"ta\")"
   ]
  },
  {
   "cell_type": "code",
   "execution_count": 10,
   "id": "f678a17d-c65c-4e05-a2af-7978370425a5",
   "metadata": {},
   "outputs": [
    {
     "data": {
      "text/plain": [
       "False"
      ]
     },
     "execution_count": 10,
     "metadata": {},
     "output_type": "execute_result"
    }
   ],
   "source": [
    "s.isnumeric()"
   ]
  },
  {
   "cell_type": "code",
   "execution_count": 11,
   "id": "ea54f47c-f463-4c6c-9679-38fb90d7327d",
   "metadata": {},
   "outputs": [],
   "source": [
    "l=[(\"mango\",99),(\"orange\",80),(\"grapes\",1000)]\n",
    "l.sort()"
   ]
  },
  {
   "cell_type": "code",
   "execution_count": 12,
   "id": "37692705-596b-4bf3-9d41-9be70133e7f9",
   "metadata": {},
   "outputs": [
    {
     "data": {
      "text/plain": [
       "[('grapes', 1000), ('mango', 99), ('orange', 80)]"
      ]
     },
     "execution_count": 12,
     "metadata": {},
     "output_type": "execute_result"
    }
   ],
   "source": [
    "l"
   ]
  },
  {
   "cell_type": "code",
   "execution_count": 14,
   "id": "3534b302-b3b2-4e12-947f-05f2dd5b862d",
   "metadata": {},
   "outputs": [
    {
     "data": {
      "text/plain": [
       "[1, 4, 9, 16, 25, 36, 49, 64, 81, 100]"
      ]
     },
     "execution_count": 14,
     "metadata": {},
     "output_type": "execute_result"
    }
   ],
   "source": [
    "x = range(1,11)\n",
    "list(map(lambda x: x**2,x))"
   ]
  },
  {
   "cell_type": "code",
   "execution_count": 15,
   "id": "9b753d7a-065c-4a08-b124-83f7b3127818",
   "metadata": {},
   "outputs": [
    {
     "data": {
      "text/plain": [
       "range(1, 11)"
      ]
     },
     "execution_count": 15,
     "metadata": {},
     "output_type": "execute_result"
    }
   ],
   "source": [
    "x"
   ]
  },
  {
   "cell_type": "code",
   "execution_count": 16,
   "id": "0b6df96d-e9fd-476e-88d1-8dc57f666b9d",
   "metadata": {},
   "outputs": [
    {
     "data": {
      "text/plain": [
       "[1, 8, 27, 64, 125, 216, 343, 512, 729, 1000]"
      ]
     },
     "execution_count": 16,
     "metadata": {},
     "output_type": "execute_result"
    }
   ],
   "source": [
    "list(map(lambda x : x**3,x))"
   ]
  },
  {
   "cell_type": "code",
   "execution_count": 18,
   "id": "fc0e54dc-e578-43c9-bb3e-9f04c86f61b0",
   "metadata": {},
   "outputs": [
    {
     "data": {
      "text/plain": [
       "[2, 4, 6, 8, 10]"
      ]
     },
     "execution_count": 18,
     "metadata": {},
     "output_type": "execute_result"
    }
   ],
   "source": [
    "list(filter(lambda x:  x%2==0 ,x))"
   ]
  },
  {
   "cell_type": "code",
   "execution_count": 19,
   "id": "d23eb153-0fad-4995-b384-e4ea74fae112",
   "metadata": {},
   "outputs": [
    {
     "data": {
      "text/plain": [
       "[1, 3, 5, 7, 9]"
      ]
     },
     "execution_count": 19,
     "metadata": {},
     "output_type": "execute_result"
    }
   ],
   "source": [
    "odd=[1,2,3,4,5,6,7,8,9,10]\n",
    "list(filter(lambda x : x%2!=0,x))"
   ]
  },
  {
   "cell_type": "code",
   "execution_count": 1,
   "id": "fffd8003-5adb-406a-a0c6-5101b1d1d7c2",
   "metadata": {},
   "outputs": [],
   "source": [
    "s1=[1,2,3,4,5,6-1,-2,-3,-4,-5,0]\n",
    "s1.sort()"
   ]
  },
  {
   "cell_type": "code",
   "execution_count": 2,
   "id": "30c87791-4f9b-40ab-ac77-e4c2a3079a82",
   "metadata": {},
   "outputs": [
    {
     "data": {
      "text/plain": [
       "[-5, -4, -3, -2, 0, 1, 2, 3, 4, 5, 5]"
      ]
     },
     "execution_count": 2,
     "metadata": {},
     "output_type": "execute_result"
    }
   ],
   "source": [
    "s1\n"
   ]
  },
  {
   "cell_type": "code",
   "execution_count": null,
   "id": "8bce1ce6-de96-4ce9-b66b-a29607c728e6",
   "metadata": {},
   "outputs": [],
   "source": []
  }
 ],
 "metadata": {
  "kernelspec": {
   "display_name": "Python 3 (ipykernel)",
   "language": "python",
   "name": "python3"
  },
  "language_info": {
   "codemirror_mode": {
    "name": "ipython",
    "version": 3
   },
   "file_extension": ".py",
   "mimetype": "text/x-python",
   "name": "python",
   "nbconvert_exporter": "python",
   "pygments_lexer": "ipython3",
   "version": "3.10.8"
  }
 },
 "nbformat": 4,
 "nbformat_minor": 5
}
